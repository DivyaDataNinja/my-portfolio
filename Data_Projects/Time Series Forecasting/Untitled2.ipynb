{
 "cells": [
  {
   "cell_type": "code",
   "execution_count": null,
   "metadata": {},
   "outputs": [],
   "source": [
    "resultsDf = pd.DataFrame({'Test RMSE': [em.rmse(test.values,SES_predict.values)[0]]},index=['Alpha=0.99,SES'])\n",
    "resultsDf"
   ]
  },
  {
   "cell_type": "code",
   "execution_count": null,
   "metadata": {},
   "outputs": [],
   "source": [
    "resultsDf_temp = pd.DataFrame({'Test RMSE': [mean_squared_error(test.values,DES_predict.values,squared=False)]}\n",
    "                           ,index=['Alpha=1,Beta=0.0189:DES'])\n",
    "\n",
    "resultsDf = pd.concat([resultsDf, resultsDf_temp])\n",
    "resultsDf"
   ]
  },
  {
   "cell_type": "code",
   "execution_count": null,
   "metadata": {},
   "outputs": [],
   "source": [
    "resultsDf_temp = pd.DataFrame({'Test RMSE': [mean_squared_error(test.values,TES_predict.values,squared=False)]}\n",
    "                           ,index=['Alpha=0.25,Beta=0.0,Gamma=0.74:TES'])\n",
    "\n",
    "resultsDf = pd.concat([resultsDf, resultsDf_temp])\n",
    "resultsDf"
   ]
  },
  {
   "cell_type": "code",
   "execution_count": null,
   "metadata": {},
   "outputs": [],
   "source": [
    "resultsDf_temp = pd.DataFrame({'Test RMSE': [mean_squared_error(test.values,TES_predict_am.values,squared=False)]}\n",
    "                           ,index=['Alpha=0.74,Beta=2.73e-06,Gamma=5.2e-07,Gamma=0:TES'])\n",
    "\n",
    "resultsDf = pd.concat([resultsDf, resultsDf_temp])\n",
    "resultsDf"
   ]
  },
  {
   "cell_type": "code",
   "execution_count": null,
   "metadata": {},
   "outputs": [],
   "source": [
    "resultsDf = pd.DataFrame({'Test RMSE': [rmse_model1_test]},index=['RegressionOnTime'])\n",
    "results_Df = pd.concat([results_Df, resultsDf])"
   ]
  },
  {
   "cell_type": "code",
   "execution_count": null,
   "metadata": {},
   "outputs": [],
   "source": [
    "resultsDf_2 = pd.DataFrame({'Test RMSE': [rmse_model2_test]},index=['NaiveModel'])\n",
    "\n",
    "resultsDf = pd.concat([resultsDf, resultsDf_2])\n",
    "resultsDf"
   ]
  },
  {
   "cell_type": "code",
   "execution_count": null,
   "metadata": {},
   "outputs": [],
   "source": [
    "resultsDf_3 = pd.DataFrame({'Test RMSE': [rmse_model3_test]},index=['SimpleAverageModel'])\n",
    "\n",
    "resultsDf = pd.concat([resultsDf, resultsDf_3])\n",
    "resultsDf"
   ]
  },
  {
   "cell_type": "code",
   "execution_count": null,
   "metadata": {},
   "outputs": [],
   "source": [
    "resultsDf_4 = pd.DataFrame({'RMSE': rmse,'MAPE':mape}\n",
    "                           ,index=['ARIMA(2,1,2)'])\n",
    "\n",
    "resultsDf = pd.concat([resultsDf, resultsDf_4])\n",
    "resultsDf"
   ]
  },
  {
   "cell_type": "code",
   "execution_count": null,
   "metadata": {},
   "outputs": [],
   "source": [
    "temp_resultsDf = pd.DataFrame({'RMSE': rmse,'MAPE':mape}\n",
    "                           ,index=['SARIMA(1,1,3)(3,0,3,6)'])\n",
    "\n",
    "\n",
    "resultsDf = pd.concat([resultsDf,temp_resultsDf])\n",
    "\n",
    "resultsDf"
   ]
  },
  {
   "cell_type": "code",
   "execution_count": null,
   "metadata": {},
   "outputs": [],
   "source": [
    "\n",
    "temp_resultsDf = pd.DataFrame({'RMSE': [rmse],'MAPE':mape}\n",
    "                           ,index=['SARIMA(3,1,3)(0,0,3,6)'])\n",
    "\n",
    "resultsDf = pd.concat([resultsDf,temp_resultsDf])\n",
    "\n",
    "resultsDf"
   ]
  }
 ],
 "metadata": {
  "kernelspec": {
   "display_name": "Python 3",
   "language": "python",
   "name": "python3"
  },
  "language_info": {
   "codemirror_mode": {
    "name": "ipython",
    "version": 3
   },
   "file_extension": ".py",
   "mimetype": "text/x-python",
   "name": "python",
   "nbconvert_exporter": "python",
   "pygments_lexer": "ipython3",
   "version": "3.8.5"
  }
 },
 "nbformat": 4,
 "nbformat_minor": 4
}
