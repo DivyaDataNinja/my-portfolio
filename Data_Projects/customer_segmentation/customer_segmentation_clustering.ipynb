{
  "nbformat": 4,
  "nbformat_minor": 0,
  "metadata": {
    "kernelspec": {
      "display_name": "Python 3",
      "language": "python",
      "name": "python3"
    },
    "language_info": {
      "codemirror_mode": {
        "name": "ipython",
        "version": 3
      },
      "file_extension": ".py",
      "mimetype": "text/x-python",
      "name": "python",
      "nbconvert_exporter": "python",
      "pygments_lexer": "ipython3",
      "version": "3.8.3"
    },
    "colab": {
      "provenance": []
    }
  },
  "cells": [
    {
      "cell_type": "markdown",
      "metadata": {
        "id": "0QE5zx_1FXiC"
      },
      "source": [
        "<span style=\"font-family: Arial; font-weight:bold;font-size:1.5em;color:#00b3e5;\">Loading libraries"
      ]
    },
    {
      "cell_type": "code",
      "metadata": {
        "id": "jDfbgdF1FXiC"
      },
      "source": [
        "import numpy as np\n",
        "import pandas as pd\n",
        "import matplotlib.pyplot as plt\n",
        "import seaborn as sns"
      ],
      "execution_count": null,
      "outputs": []
    },
    {
      "cell_type": "markdown",
      "metadata": {
        "id": "4YINJgy6FXiD"
      },
      "source": [
        "<span style=\"font-family: Arial; font-weight:bold;font-size:1.5em;color:#00b3e5;\">Exploratory data analysis"
      ]
    },
    {
      "cell_type": "code",
      "metadata": {
        "id": "cpM9_Du1FXiD",
        "outputId": "3645e702-b730-4827-e5d2-960ce65f1173"
      },
      "source": [
        "data = pd.read_csv('bank_marketing_part1_Data.csv')\n",
        "data.head()"
      ],
      "execution_count": null,
      "outputs": [
        {
          "output_type": "execute_result",
          "data": {
            "text/html": [
              "<div>\n",
              "<style scoped>\n",
              "    .dataframe tbody tr th:only-of-type {\n",
              "        vertical-align: middle;\n",
              "    }\n",
              "\n",
              "    .dataframe tbody tr th {\n",
              "        vertical-align: top;\n",
              "    }\n",
              "\n",
              "    .dataframe thead th {\n",
              "        text-align: right;\n",
              "    }\n",
              "</style>\n",
              "<table border=\"1\" class=\"dataframe\">\n",
              "  <thead>\n",
              "    <tr style=\"text-align: right;\">\n",
              "      <th></th>\n",
              "      <th>spending</th>\n",
              "      <th>advance_payments</th>\n",
              "      <th>probability_of_full_payment</th>\n",
              "      <th>current_balance</th>\n",
              "      <th>credit_limit</th>\n",
              "      <th>min_payment_amt</th>\n",
              "      <th>max_spent_in_single_shopping</th>\n",
              "    </tr>\n",
              "  </thead>\n",
              "  <tbody>\n",
              "    <tr>\n",
              "      <th>0</th>\n",
              "      <td>19.94</td>\n",
              "      <td>16.92</td>\n",
              "      <td>0.8752</td>\n",
              "      <td>6.675</td>\n",
              "      <td>3.763</td>\n",
              "      <td>3.252</td>\n",
              "      <td>6.550</td>\n",
              "    </tr>\n",
              "    <tr>\n",
              "      <th>1</th>\n",
              "      <td>15.99</td>\n",
              "      <td>14.89</td>\n",
              "      <td>0.9064</td>\n",
              "      <td>5.363</td>\n",
              "      <td>3.582</td>\n",
              "      <td>3.336</td>\n",
              "      <td>5.144</td>\n",
              "    </tr>\n",
              "    <tr>\n",
              "      <th>2</th>\n",
              "      <td>18.95</td>\n",
              "      <td>16.42</td>\n",
              "      <td>0.8829</td>\n",
              "      <td>6.248</td>\n",
              "      <td>3.755</td>\n",
              "      <td>3.368</td>\n",
              "      <td>6.148</td>\n",
              "    </tr>\n",
              "    <tr>\n",
              "      <th>3</th>\n",
              "      <td>10.83</td>\n",
              "      <td>12.96</td>\n",
              "      <td>0.8099</td>\n",
              "      <td>5.278</td>\n",
              "      <td>2.641</td>\n",
              "      <td>5.182</td>\n",
              "      <td>5.185</td>\n",
              "    </tr>\n",
              "    <tr>\n",
              "      <th>4</th>\n",
              "      <td>17.99</td>\n",
              "      <td>15.86</td>\n",
              "      <td>0.8992</td>\n",
              "      <td>5.890</td>\n",
              "      <td>3.694</td>\n",
              "      <td>2.068</td>\n",
              "      <td>5.837</td>\n",
              "    </tr>\n",
              "  </tbody>\n",
              "</table>\n",
              "</div>"
            ],
            "text/plain": [
              "   spending  advance_payments  probability_of_full_payment  current_balance  \\\n",
              "0     19.94             16.92                       0.8752            6.675   \n",
              "1     15.99             14.89                       0.9064            5.363   \n",
              "2     18.95             16.42                       0.8829            6.248   \n",
              "3     10.83             12.96                       0.8099            5.278   \n",
              "4     17.99             15.86                       0.8992            5.890   \n",
              "\n",
              "   credit_limit  min_payment_amt  max_spent_in_single_shopping  \n",
              "0         3.763            3.252                         6.550  \n",
              "1         3.582            3.336                         5.144  \n",
              "2         3.755            3.368                         6.148  \n",
              "3         2.641            5.182                         5.185  \n",
              "4         3.694            2.068                         5.837  "
            ]
          },
          "metadata": {
            "tags": []
          },
          "execution_count": 48
        }
      ]
    },
    {
      "cell_type": "markdown",
      "metadata": {
        "id": "LW89oz2hFXiE"
      },
      "source": [
        "<span style=\"font-family: Arial; font-weight:bold;font-size:1.5em;color:#00b3e5;\"> Checking the Dimension of data"
      ]
    },
    {
      "cell_type": "code",
      "metadata": {
        "id": "EN9xQDpiFXiE",
        "outputId": "a7b94695-3503-4dbd-b1c2-d47d68d0bfe0"
      },
      "source": [
        "data.shape"
      ],
      "execution_count": null,
      "outputs": [
        {
          "output_type": "execute_result",
          "data": {
            "text/plain": [
              "(210, 7)"
            ]
          },
          "metadata": {
            "tags": []
          },
          "execution_count": 49
        }
      ]
    },
    {
      "cell_type": "markdown",
      "metadata": {
        "id": "q5WPbzdWFXiF"
      },
      "source": [
        "**There are 210 Observations and 7 Attributes.**"
      ]
    },
    {
      "cell_type": "markdown",
      "metadata": {
        "id": "_XBwKgpDFXiF"
      },
      "source": [
        "<span style=\"font-family: Arial; font-weight:bold;font-size:1.5em;color:#00b3e5;\">Checking the information about data"
      ]
    },
    {
      "cell_type": "code",
      "metadata": {
        "id": "bZT3dZGrFXiF",
        "outputId": "0429d47b-7f9c-4c36-d338-79093dfef429"
      },
      "source": [
        "data.info()"
      ],
      "execution_count": null,
      "outputs": [
        {
          "output_type": "stream",
          "text": [
            "<class 'pandas.core.frame.DataFrame'>\n",
            "RangeIndex: 210 entries, 0 to 209\n",
            "Data columns (total 7 columns):\n",
            " #   Column                        Non-Null Count  Dtype  \n",
            "---  ------                        --------------  -----  \n",
            " 0   spending                      210 non-null    float64\n",
            " 1   advance_payments              210 non-null    float64\n",
            " 2   probability_of_full_payment   210 non-null    float64\n",
            " 3   current_balance               210 non-null    float64\n",
            " 4   credit_limit                  210 non-null    float64\n",
            " 5   min_payment_amt               210 non-null    float64\n",
            " 6   max_spent_in_single_shopping  210 non-null    float64\n",
            "dtypes: float64(7)\n",
            "memory usage: 11.6 KB\n"
          ],
          "name": "stdout"
        }
      ]
    },
    {
      "cell_type": "markdown",
      "metadata": {
        "id": "4w4EHRq8FXiF"
      },
      "source": [
        "<span style=\"font-family: Arial; font-weight:bold;font-size:1.7em;color:#00b3e5;\">EDA Descriptive Statistics"
      ]
    },
    {
      "cell_type": "markdown",
      "metadata": {
        "id": "KLAd-VpIFXiG"
      },
      "source": [
        "### **Mean**"
      ]
    },
    {
      "cell_type": "code",
      "metadata": {
        "id": "6K8sRP80FXiG",
        "outputId": "84e08d0b-a241-4bdd-d298-dc4c0762897b"
      },
      "source": [
        "data.mean()"
      ],
      "execution_count": null,
      "outputs": [
        {
          "output_type": "execute_result",
          "data": {
            "text/plain": [
              "spending                        14.847524\n",
              "advance_payments                14.559286\n",
              "probability_of_full_payment      0.870999\n",
              "current_balance                  5.628533\n",
              "credit_limit                     3.258605\n",
              "min_payment_amt                  3.700201\n",
              "max_spent_in_single_shopping     5.408071\n",
              "dtype: float64"
            ]
          },
          "metadata": {
            "tags": []
          },
          "execution_count": 63
        }
      ]
    },
    {
      "cell_type": "markdown",
      "metadata": {
        "id": "nMt69yohFXiG"
      },
      "source": [
        "### **Median**"
      ]
    },
    {
      "cell_type": "code",
      "metadata": {
        "id": "9P1LRsZtFXiG",
        "outputId": "e0154dd7-aff9-4ea6-fe61-b998b0035018"
      },
      "source": [
        "data.median()"
      ],
      "execution_count": null,
      "outputs": [
        {
          "output_type": "execute_result",
          "data": {
            "text/plain": [
              "spending                        14.35500\n",
              "advance_payments                14.32000\n",
              "probability_of_full_payment      0.87345\n",
              "current_balance                  5.52350\n",
              "credit_limit                     3.23700\n",
              "min_payment_amt                  3.59900\n",
              "max_spent_in_single_shopping     5.22300\n",
              "dtype: float64"
            ]
          },
          "metadata": {
            "tags": []
          },
          "execution_count": 64
        }
      ]
    },
    {
      "cell_type": "markdown",
      "metadata": {
        "id": "dxr3eENHFXiG"
      },
      "source": [
        "### **Mode**"
      ]
    },
    {
      "cell_type": "code",
      "metadata": {
        "id": "Vgz_r9jRFXiH",
        "outputId": "cbf1a1ea-e1f2-4a21-924f-86950a905628"
      },
      "source": [
        "data.mode()"
      ],
      "execution_count": null,
      "outputs": [
        {
          "output_type": "execute_result",
          "data": {
            "text/html": [
              "<div>\n",
              "<style scoped>\n",
              "    .dataframe tbody tr th:only-of-type {\n",
              "        vertical-align: middle;\n",
              "    }\n",
              "\n",
              "    .dataframe tbody tr th {\n",
              "        vertical-align: top;\n",
              "    }\n",
              "\n",
              "    .dataframe thead th {\n",
              "        text-align: right;\n",
              "    }\n",
              "</style>\n",
              "<table border=\"1\" class=\"dataframe\">\n",
              "  <thead>\n",
              "    <tr style=\"text-align: right;\">\n",
              "      <th></th>\n",
              "      <th>spending</th>\n",
              "      <th>advance_payments</th>\n",
              "      <th>probability_of_full_payment</th>\n",
              "      <th>current_balance</th>\n",
              "      <th>credit_limit</th>\n",
              "      <th>min_payment_amt</th>\n",
              "      <th>max_spent_in_single_shopping</th>\n",
              "    </tr>\n",
              "  </thead>\n",
              "  <tbody>\n",
              "    <tr>\n",
              "      <th>0</th>\n",
              "      <td>11.23</td>\n",
              "      <td>13.47</td>\n",
              "      <td>0.8823</td>\n",
              "      <td>5.236</td>\n",
              "      <td>3.026</td>\n",
              "      <td>2.129</td>\n",
              "      <td>5.001</td>\n",
              "    </tr>\n",
              "    <tr>\n",
              "      <th>1</th>\n",
              "      <td>14.11</td>\n",
              "      <td>NaN</td>\n",
              "      <td>NaN</td>\n",
              "      <td>5.395</td>\n",
              "      <td>NaN</td>\n",
              "      <td>2.221</td>\n",
              "      <td>NaN</td>\n",
              "    </tr>\n",
              "    <tr>\n",
              "      <th>2</th>\n",
              "      <td>15.38</td>\n",
              "      <td>NaN</td>\n",
              "      <td>NaN</td>\n",
              "      <td>NaN</td>\n",
              "      <td>NaN</td>\n",
              "      <td>2.700</td>\n",
              "      <td>NaN</td>\n",
              "    </tr>\n",
              "  </tbody>\n",
              "</table>\n",
              "</div>"
            ],
            "text/plain": [
              "   spending  advance_payments  probability_of_full_payment  current_balance  \\\n",
              "0     11.23             13.47                       0.8823            5.236   \n",
              "1     14.11               NaN                          NaN            5.395   \n",
              "2     15.38               NaN                          NaN              NaN   \n",
              "\n",
              "   credit_limit  min_payment_amt  max_spent_in_single_shopping  \n",
              "0         3.026            2.129                         5.001  \n",
              "1           NaN            2.221                           NaN  \n",
              "2           NaN            2.700                           NaN  "
            ]
          },
          "metadata": {
            "tags": []
          },
          "execution_count": 73
        }
      ]
    },
    {
      "cell_type": "markdown",
      "metadata": {
        "id": "icBndLscFXiH"
      },
      "source": [
        "### Quantile 25%"
      ]
    },
    {
      "cell_type": "code",
      "metadata": {
        "id": "x1r9jjziFXiH",
        "outputId": "c605b6a2-2ff7-44b9-ef75-a141dac89145"
      },
      "source": [
        "print('data_quantile(25%):',data.quantile(q=0.25))"
      ],
      "execution_count": null,
      "outputs": [
        {
          "output_type": "stream",
          "text": [
            "data_quantile(25%): spending                        12.27000\n",
            "advance_payments                13.45000\n",
            "probability_of_full_payment      0.85690\n",
            "current_balance                  5.26225\n",
            "credit_limit                     2.94400\n",
            "min_payment_amt                  2.56150\n",
            "max_spent_in_single_shopping     5.04500\n",
            "Name: 0.25, dtype: float64\n"
          ],
          "name": "stdout"
        }
      ]
    },
    {
      "cell_type": "markdown",
      "metadata": {
        "id": "H6RZvtvZFXiH"
      },
      "source": [
        "### Quantile 50%"
      ]
    },
    {
      "cell_type": "code",
      "metadata": {
        "id": "k86a8H9nFXiH",
        "outputId": "4a15c142-47e2-4e7a-fdae-d8550cef3dc5"
      },
      "source": [
        "print('data_quantile(50%):',data.quantile(q=0.50))"
      ],
      "execution_count": null,
      "outputs": [
        {
          "output_type": "stream",
          "text": [
            "data_quantile(50%): spending                        14.35500\n",
            "advance_payments                14.32000\n",
            "probability_of_full_payment      0.87345\n",
            "current_balance                  5.52350\n",
            "credit_limit                     3.23700\n",
            "min_payment_amt                  3.59900\n",
            "max_spent_in_single_shopping     5.22300\n",
            "Name: 0.5, dtype: float64\n"
          ],
          "name": "stdout"
        }
      ]
    },
    {
      "cell_type": "markdown",
      "metadata": {
        "id": "WmvDmiZTFXiH"
      },
      "source": [
        "### Quantile 75%"
      ]
    },
    {
      "cell_type": "code",
      "metadata": {
        "id": "bqC7JLn5FXiI",
        "outputId": "32e9c6db-0237-49fa-f89f-dda76170b843",
        "colab": {
          "base_uri": "https://localhost:8080/",
          "height": 163
        }
      },
      "source": [
        "print('data_quantile(75%):',data.quantile(q=0.75))"
      ],
      "execution_count": null,
      "outputs": [
        {
          "output_type": "error",
          "ename": "NameError",
          "evalue": "ignored",
          "traceback": [
            "\u001b[0;31m---------------------------------------------------------------------------\u001b[0m",
            "\u001b[0;31mNameError\u001b[0m                                 Traceback (most recent call last)",
            "\u001b[0;32m<ipython-input-1-84e93ae61041>\u001b[0m in \u001b[0;36m<module>\u001b[0;34m()\u001b[0m\n\u001b[0;32m----> 1\u001b[0;31m \u001b[0mprint\u001b[0m\u001b[0;34m(\u001b[0m\u001b[0;34m'data_quantile(75%):'\u001b[0m\u001b[0;34m,\u001b[0m\u001b[0mdata\u001b[0m\u001b[0;34m.\u001b[0m\u001b[0mquantile\u001b[0m\u001b[0;34m(\u001b[0m\u001b[0mq\u001b[0m\u001b[0;34m=\u001b[0m\u001b[0;36m0.75\u001b[0m\u001b[0;34m)\u001b[0m\u001b[0;34m)\u001b[0m\u001b[0;34m\u001b[0m\u001b[0;34m\u001b[0m\u001b[0m\n\u001b[0m",
            "\u001b[0;31mNameError\u001b[0m: name 'data' is not defined"
          ]
        }
      ]
    },
    {
      "cell_type": "markdown",
      "metadata": {
        "id": "gHTfLQUTFXiI"
      },
      "source": [
        "<span style=\"font-family: Arial; font-weight:bold;font-size:1.5em;color:#00b3e5;\">Checking the Measures of Dispersion"
      ]
    },
    {
      "cell_type": "code",
      "metadata": {
        "id": "YHOURCPEFXiI"
      },
      "source": [
        "# IQR\n",
        "\n",
        "data.quantile(0.75)-data.quantile(0.25)"
      ],
      "execution_count": null,
      "outputs": []
    },
    {
      "cell_type": "code",
      "metadata": {
        "id": "Q2xVnqmSFXiI"
      },
      "source": [
        "#  Range\n",
        "\n",
        "data.max()-data.min()"
      ],
      "execution_count": null,
      "outputs": []
    },
    {
      "cell_type": "code",
      "metadata": {
        "id": "wtHY52vqFXiI"
      },
      "source": [
        "#  Variance\n",
        "\n",
        "data.var()"
      ],
      "execution_count": null,
      "outputs": []
    },
    {
      "cell_type": "code",
      "metadata": {
        "id": "b7CXC9aZFXiJ"
      },
      "source": [
        "# standard deviation\n",
        "\n",
        "data.std()"
      ],
      "execution_count": null,
      "outputs": []
    },
    {
      "cell_type": "markdown",
      "metadata": {
        "id": "AN66QbyiFXiJ"
      },
      "source": [
        "<span style=\"font-family: Arial; font-weight:bold;font-size:1.5em;color:#00b3e5;\"> Plotting the summary mean,mode,median using histogram"
      ]
    },
    {
      "cell_type": "code",
      "metadata": {
        "id": "biPYoYB1FXiJ"
      },
      "source": [
        "mean = data['spending'].mean()\n",
        "median = data['spending'].median()\n",
        "mode = data['spending'].mode()\n",
        "print('Mean: ',mean,'\\nMedian: ',median,'\\nMode: ',mode[0])\n",
        "\n",
        "plt.figure(figsize=(10,5))\n",
        "plt.hist(data['spending'],bins=100,color='lightblue') #plot histogram\n",
        "\n",
        "# draw lines for mean,mode,median\n",
        "\n",
        "plt.axvline(mean,color='green',label='mean')\n",
        "plt.axvline(median,color='blue',label='median')\n",
        "plt.axvline(mode[0],color='red',label='mode 1')\n",
        "plt.axvline(mode[1],color='red',label='mode 2')\n",
        "plt.axvline(mode[2],color='red',label='mode 3')\n",
        "\n",
        "# label x axis\n",
        "\n",
        "plt.xlabel('spending')\n",
        "\n",
        "# label y axis\n",
        "\n",
        "plt.ylabel('Frequency')\n",
        "\n",
        "# plot legend\n",
        "\n",
        "plt.legend()\n",
        "\n",
        "plt.show()"
      ],
      "execution_count": null,
      "outputs": []
    },
    {
      "cell_type": "code",
      "metadata": {
        "id": "oEGW9tx2FXiJ"
      },
      "source": [
        "mean = data['advance_payments'].mean()\n",
        "median = data['advance_payments'].median()\n",
        "mode = data['advance_payments'].mode()\n",
        "print('Mean: ',mean,'\\nMedian: ',median,'\\nMode: ',mode[0])\n",
        "\n",
        "plt.figure(figsize=(10,5))\n",
        "plt.hist(data['advance_payments'],bins=100,color='lightblue') #plot histogram\n",
        "\n",
        "# draw lines for mean,mode,median\n",
        "\n",
        "plt.axvline(mean,color='green',label='mean')\n",
        "plt.axvline(median,color='blue',label='median')\n",
        "plt.axvline(mode[0],color='red',label='mode')\n",
        "\n",
        "# label x axis\n",
        "\n",
        "plt.xlabel('advance_payments')\n",
        "\n",
        "# label y axis\n",
        "\n",
        "plt.ylabel('Frequency')\n",
        "\n",
        "# plot legend\n",
        "\n",
        "plt.legend()\n",
        "\n",
        "plt.show()"
      ],
      "execution_count": null,
      "outputs": []
    },
    {
      "cell_type": "code",
      "metadata": {
        "id": "SMnUAgAJFXiJ"
      },
      "source": [
        "mean = data['probability_of_full_payment'].mean()\n",
        "median = data['probability_of_full_payment'].median()\n",
        "mode = data['probability_of_full_payment'].mode()\n",
        "print('Mean: ',mean,'\\nMedian: ',median,'\\nMode: ',mode[0])\n",
        "\n",
        "plt.figure(figsize=(10,5))\n",
        "plt.hist(data['probability_of_full_payment'],bins=100,color='lightblue') #plot histogram\n",
        "\n",
        "# draw lines for mean,mode,median\n",
        "\n",
        "plt.axvline(mean,color='green',label='mean')\n",
        "plt.axvline(median,color='blue',label='median')\n",
        "plt.axvline(mode[0],color='red',label='mode')\n",
        "\n",
        "# label x axis\n",
        "\n",
        "plt.xlabel('probability_of_full_payment')\n",
        "\n",
        "# label y axis\n",
        "\n",
        "plt.ylabel('Frequency')\n",
        "\n",
        "# plot legend\n",
        "\n",
        "plt.legend()\n",
        "\n",
        "plt.show()"
      ],
      "execution_count": null,
      "outputs": []
    },
    {
      "cell_type": "code",
      "metadata": {
        "id": "GEG15Cj_FXiK"
      },
      "source": [
        "mean = data['current_balance'].mean()\n",
        "median = data['current_balance'].median()\n",
        "mode = data['current_balance'].mode()\n",
        "print('Mean: ',mean,'\\nMedian: ',median,'\\nMode: ',mode[0])\n",
        "\n",
        "plt.figure(figsize=(10,5))\n",
        "plt.hist(data['current_balance'],bins=100,color='lightblue') #plot histogram\n",
        "\n",
        "# draw lines for mean,mode,median\n",
        "\n",
        "plt.axvline(mean,color='green',label='mean')\n",
        "plt.axvline(median,color='blue',label='median')\n",
        "plt.axvline(mode[0],color='red',label='mode 1')\n",
        "plt.axvline(mode[1],color='red',label='mode 2')\n",
        "\n",
        "\n",
        "# label x axis\n",
        "\n",
        "plt.xlabel('current_balance')\n",
        "\n",
        "# label y axis\n",
        "\n",
        "plt.ylabel('Frequency')\n",
        "\n",
        "# plot legend\n",
        "\n",
        "plt.legend()\n",
        "\n",
        "plt.show()"
      ],
      "execution_count": null,
      "outputs": []
    },
    {
      "cell_type": "code",
      "metadata": {
        "id": "bDhTf7nGFXiK"
      },
      "source": [
        "mean = data['credit_limit'].mean()\n",
        "median = data['credit_limit'].median()\n",
        "mode = data['credit_limit'].mode()\n",
        "print('Mean: ',mean,'\\nMedian: ',median,'\\nMode: ',mode[0])\n",
        "\n",
        "plt.figure(figsize=(10,5))\n",
        "plt.hist(data['credit_limit'],bins=100,color='lightblue') #plot histogram\n",
        "\n",
        "# draw lines for mean,mode,median\n",
        "\n",
        "plt.axvline(mean,color='green',label='mean')\n",
        "plt.axvline(median,color='blue',label='median')\n",
        "plt.axvline(mode[0],color='red',label='mode 1')\n",
        "\n",
        "\n",
        "# label x axis\n",
        "\n",
        "plt.xlabel('credit_limit')\n",
        "\n",
        "# label y axis\n",
        "\n",
        "plt.ylabel('Frequency')\n",
        "\n",
        "# plot legend\n",
        "\n",
        "plt.legend()\n",
        "\n",
        "plt.show()"
      ],
      "execution_count": null,
      "outputs": []
    },
    {
      "cell_type": "code",
      "metadata": {
        "id": "gdIhwx04FXiL"
      },
      "source": [
        "mean = data['min_payment_amt'].mean()\n",
        "median = data['min_payment_amt'].median()\n",
        "mode = data['min_payment_amt'].mode()\n",
        "print('Mean: ',mean,'\\nMedian: ',median,'\\nMode: ',mode[0])\n",
        "\n",
        "plt.figure(figsize=(10,5))\n",
        "plt.hist(data['min_payment_amt'],bins=100,color='lightblue') #plot histogram\n",
        "\n",
        "# draw lines for mean,mode,median\n",
        "\n",
        "plt.axvline(mean,color='green',label='mean')\n",
        "plt.axvline(median,color='blue',label='median')\n",
        "plt.axvline(mode[0],color='red',label='mode 1')\n",
        "plt.axvline(mode[1],color='red',label='mode 2')\n",
        "plt.axvline(mode[2],color='red',label='mode 3')\n",
        "\n",
        "# label x axis\n",
        "\n",
        "plt.xlabel('min_payment_amt')\n",
        "\n",
        "# label y axis\n",
        "\n",
        "plt.ylabel('Frequency')\n",
        "\n",
        "# plot legend\n",
        "\n",
        "plt.legend()\n",
        "\n",
        "plt.show()"
      ],
      "execution_count": null,
      "outputs": []
    },
    {
      "cell_type": "code",
      "metadata": {
        "id": "x9azaopOFXiL"
      },
      "source": [
        "mean = data['max_spent_in_single_shopping'].mean()\n",
        "median = data['max_spent_in_single_shopping'].median()\n",
        "mode = data['max_spent_in_single_shopping'].mode()\n",
        "print('Mean: ',mean,'\\nMedian: ',median,'\\nMode: ',mode[0])\n",
        "\n",
        "plt.figure(figsize=(10,5))\n",
        "plt.hist(data['max_spent_in_single_shopping'],bins=100,color='lightblue') #plot histogram\n",
        "\n",
        "# draw lines for mean,mode,median\n",
        "\n",
        "plt.axvline(mean,color='green',label='mean')\n",
        "plt.axvline(median,color='blue',label='median')\n",
        "plt.axvline(mode[0],color='red',label='mode 1')\n",
        "\n",
        "# label x axis\n",
        "\n",
        "plt.xlabel('max_spent_in_single_shopping')\n",
        "\n",
        "# label y axis\n",
        "\n",
        "plt.ylabel('Frequency')\n",
        "\n",
        "# plot legend\n",
        "\n",
        "plt.legend()\n",
        "\n",
        "plt.show()"
      ],
      "execution_count": null,
      "outputs": []
    },
    {
      "cell_type": "markdown",
      "metadata": {
        "id": "R8ZoWxhdFXiL"
      },
      "source": [
        "<span style=\"font-family: Arial; font-weight:bold;font-size:1.5em;color:#00b3e5;\">Checking Covariance and Correlation"
      ]
    },
    {
      "cell_type": "code",
      "metadata": {
        "id": "QNZntjoaFXiL"
      },
      "source": [
        "data.cov()"
      ],
      "execution_count": null,
      "outputs": []
    },
    {
      "cell_type": "code",
      "metadata": {
        "id": "9IIfJ7_DFXiM"
      },
      "source": [
        "data.corr()"
      ],
      "execution_count": null,
      "outputs": []
    },
    {
      "cell_type": "markdown",
      "metadata": {
        "id": "CBp6HdLDFXiM"
      },
      "source": [
        "<span style=\"font-family: Arial; font-weight:bold;font-size:1.5em;color:#00b3e5;\">Pairplot for checking the correlation"
      ]
    },
    {
      "cell_type": "code",
      "metadata": {
        "id": "21kN5uhJFXiM"
      },
      "source": [
        "import seaborn as sns\n",
        "sns.pairplot(data,kind='reg'); #plots scatter plots for every pair of attributes and histograms along the diagonal\n",
        "plt.show()"
      ],
      "execution_count": null,
      "outputs": []
    },
    {
      "cell_type": "markdown",
      "metadata": {
        "id": "J07G_eHBFXiM"
      },
      "source": [
        "<span style=\"font-family: Arial; font-weight:bold;font-size:1.5em;color:#00b3e5;\"> Heatmap For checking the correlation"
      ]
    },
    {
      "cell_type": "code",
      "metadata": {
        "id": "sfzow_QeFXiM"
      },
      "source": [
        "fig,ax = plt.subplots(figsize=(10, 10))\n",
        "sns.heatmap(data.corr(), ax=ax, annot=True, linewidths=0.05, fmt= '.2f',cmap=\"magma\")\n",
        "plt.show()"
      ],
      "execution_count": null,
      "outputs": []
    },
    {
      "cell_type": "markdown",
      "metadata": {
        "id": "S_QSpla2FXiM"
      },
      "source": [
        "There is some negative correlation between variables. spending and advance_payments are highly correlated. spending and credit_limit are also highly correlated.advance_payments and current_balance are also strongly correlated.probability_of_payment and min_payment_amt are negatively and least correlated."
      ]
    },
    {
      "cell_type": "markdown",
      "metadata": {
        "id": "OgdFh0YVFXiN"
      },
      "source": [
        "<span style=\"font-family: Arial; font-weight:bold;font-size:1.5em;color:#00b3e5;\">Checking the Skewness"
      ]
    },
    {
      "cell_type": "code",
      "metadata": {
        "id": "1r4KkY5vFXiN"
      },
      "source": [
        "data.skew()"
      ],
      "execution_count": null,
      "outputs": []
    },
    {
      "cell_type": "code",
      "metadata": {
        "id": "_-LgaoKCFXiN"
      },
      "source": [],
      "execution_count": null,
      "outputs": []
    },
    {
      "cell_type": "markdown",
      "metadata": {
        "id": "jyz1S5SYFXiN"
      },
      "source": [
        "<span style=\"font-family: Arial; font-weight:bold;font-size:1.5em;color:#00b3e5;\"> Checking the missing values"
      ]
    },
    {
      "cell_type": "code",
      "metadata": {
        "id": "eexT4Y80FXiN"
      },
      "source": [
        "data.isnull().sum()"
      ],
      "execution_count": null,
      "outputs": []
    },
    {
      "cell_type": "markdown",
      "metadata": {
        "id": "BOlcclsWFXiN"
      },
      "source": [
        "**no missing values**"
      ]
    },
    {
      "cell_type": "markdown",
      "metadata": {
        "id": "HNHEXs6RFXiN"
      },
      "source": [
        "<span style=\"font-family: Arial; font-weight:bold;font-size:1.5em;color:#00b3e5;\"> Checking the duplicate values"
      ]
    },
    {
      "cell_type": "code",
      "metadata": {
        "id": "Q-f4_O7jFXiN"
      },
      "source": [
        "data.duplicated().sum()"
      ],
      "execution_count": null,
      "outputs": []
    },
    {
      "cell_type": "markdown",
      "metadata": {
        "id": "iMC3M5l-FXiO"
      },
      "source": [
        "**No duplicate values**"
      ]
    },
    {
      "cell_type": "markdown",
      "metadata": {
        "id": "pVV7q-upFXiO"
      },
      "source": [
        "<span style=\"font-family: Arial; font-weight:bold;font-size:1.5em;color:#00b3e5;\"> Checking for outliers"
      ]
    },
    {
      "cell_type": "code",
      "metadata": {
        "id": "eTJMGPugFXiO"
      },
      "source": [
        "# construct box plot for continuous variables\n",
        "plt.figure(figsize=(15,15))\n",
        "data[['spending', 'advance_payments',\n",
        "    'probability_of_full_payment', 'current_balance', 'credit_limit',\n",
        "      'min_payment_amt', 'max_spent_in_single_shopping']].boxplot(vert=0)"
      ],
      "execution_count": null,
      "outputs": []
    },
    {
      "cell_type": "markdown",
      "metadata": {
        "id": "r_YZiiJaFXiO"
      },
      "source": [
        "**There are outliers in min_payment_amt and probability_of_full_payment**"
      ]
    },
    {
      "cell_type": "code",
      "metadata": {
        "id": "ejG1-wCfFXiO"
      },
      "source": [
        "data_copied = data.copy()\n",
        "data_copied.head()"
      ],
      "execution_count": null,
      "outputs": []
    },
    {
      "cell_type": "markdown",
      "metadata": {
        "id": "C4G4r3hoFXiP"
      },
      "source": [
        "<span style=\"font-family: Arial; font-weight:bold;font-size:1.5em;color:#00b3e5;\"> 1.2  Do you think scaling is necessary for clustering in this case? Justify\n",
        "    "
      ]
    },
    {
      "cell_type": "code",
      "metadata": {
        "id": "98N5MSaaFXiP"
      },
      "source": [
        "data.describe()"
      ],
      "execution_count": null,
      "outputs": []
    },
    {
      "cell_type": "markdown",
      "metadata": {
        "id": "jT6NvtfhFXiP"
      },
      "source": [
        "**By checking the summary, we can say that min,max and mean are not equal for all the columns.scaling is necessary**"
      ]
    },
    {
      "cell_type": "markdown",
      "metadata": {
        "id": "prswJwgWFXiP"
      },
      "source": [
        "<span style=\"font-family: Arial; font-weight:bold;font-size:1.5em;color:#00b3e5;\"> scaling the data"
      ]
    },
    {
      "cell_type": "code",
      "metadata": {
        "id": "c0gxdyJFFXiP"
      },
      "source": [
        "from sklearn.preprocessing import MinMaxScaler\n",
        "\n",
        "minmax_scale = MinMaxScaler()\n",
        "\n",
        "minmax_scale"
      ],
      "execution_count": null,
      "outputs": []
    },
    {
      "cell_type": "code",
      "metadata": {
        "id": "b6-jae5hFXiP"
      },
      "source": [
        "data_copied['spending_MinMaxScale'] = minmax_scale.fit_transform(data_copied[['spending']])\n",
        "data_copied['spending_MinMaxScale'].head(5)"
      ],
      "execution_count": null,
      "outputs": []
    },
    {
      "cell_type": "code",
      "metadata": {
        "id": "KTuhyGU7FXiP"
      },
      "source": [
        "data_copied['advance_payments_MinMaxScale'] = minmax_scale.fit_transform(data_copied[['advance_payments']])\n",
        "data_copied['advance_payments_MinMaxScale'].head(5)"
      ],
      "execution_count": null,
      "outputs": []
    },
    {
      "cell_type": "code",
      "metadata": {
        "id": "q3c25oCKFXiQ"
      },
      "source": [
        "data_copied['probability_of_full_payment_MinMaxScale'] = minmax_scale.fit_transform(data_copied[['probability_of_full_payment']])\n",
        "data_copied['probability_of_full_payment_MinMaxScale'].head(5)"
      ],
      "execution_count": null,
      "outputs": []
    },
    {
      "cell_type": "code",
      "metadata": {
        "id": "wwJlyP6mFXiQ"
      },
      "source": [
        "data_copied['current_balance_MinMaxScale'] = minmax_scale.fit_transform(data_copied[['current_balance']])\n",
        "data_copied['current_balance_MinMaxScale'].head(5)"
      ],
      "execution_count": null,
      "outputs": []
    },
    {
      "cell_type": "code",
      "metadata": {
        "id": "8PHZihtaFXiQ"
      },
      "source": [
        "data_copied['credit_limit_MinMaxScale'] = minmax_scale.fit_transform(data_copied[['credit_limit']])\n",
        "data_copied['credit_limit_MinMaxScale'].head(5)"
      ],
      "execution_count": null,
      "outputs": []
    },
    {
      "cell_type": "code",
      "metadata": {
        "id": "tcAJgmriFXiQ"
      },
      "source": [
        "data_copied['min_payment_amt_MinMaxScale'] = minmax_scale.fit_transform(data_copied[['min_payment_amt']])\n",
        "data_copied['min_payment_amt_MinMaxScale'].head(5)"
      ],
      "execution_count": null,
      "outputs": []
    },
    {
      "cell_type": "code",
      "metadata": {
        "id": "jkE9Yil3FXiQ"
      },
      "source": [
        "data_copied['max_spent_in_single_shopping_MinMaxScale'] = minmax_scale.fit_transform(data_copied[['max_spent_in_single_shopping']])\n",
        "data_copied['max_spent_in_single_shopping_MinMaxScale'].head(5)"
      ],
      "execution_count": null,
      "outputs": []
    },
    {
      "cell_type": "markdown",
      "metadata": {
        "id": "cBhqg1q9FXiQ"
      },
      "source": [
        "<span style=\"font-family: Arial; font-weight:bold;font-size:1.5em;color:#00b3e5;\">Applying hierarchical clustering to scaled data"
      ]
    },
    {
      "cell_type": "code",
      "metadata": {
        "id": "bh_JbkRBFXiR"
      },
      "source": [
        "from scipy.cluster.hierarchy import dendrogram, linkage"
      ],
      "execution_count": null,
      "outputs": []
    },
    {
      "cell_type": "code",
      "metadata": {
        "id": "Hb6Brz88FXiR"
      },
      "source": [
        "wardlink = linkage(data_copied, method = 'ward')"
      ],
      "execution_count": null,
      "outputs": []
    },
    {
      "cell_type": "code",
      "metadata": {
        "id": "uCc2xTKcFXiR"
      },
      "source": [
        "dendrogram(wardlink)"
      ],
      "execution_count": null,
      "outputs": []
    },
    {
      "cell_type": "code",
      "metadata": {
        "id": "BxdhnpUUFXiR"
      },
      "source": [
        "dend = dendrogram(wardlink)"
      ],
      "execution_count": null,
      "outputs": []
    },
    {
      "cell_type": "code",
      "metadata": {
        "id": "eKFzu_N0FXiR"
      },
      "source": [
        "dend = dendrogram(wardlink, truncate_mode = 'lastp', p =10)"
      ],
      "execution_count": null,
      "outputs": []
    },
    {
      "cell_type": "markdown",
      "metadata": {
        "id": "lUZ1R-r8FXiR"
      },
      "source": [
        "**p value shows the last 10 merges. Green cluster has maximum products, the orange cluster has minimum products**"
      ]
    },
    {
      "cell_type": "markdown",
      "metadata": {
        "id": "TzI8sqfQFXiR"
      },
      "source": [
        "**we created the linkage, that is the distances. Now obtaining the clusters and products belong to each cluster for final verification**"
      ]
    },
    {
      "cell_type": "code",
      "metadata": {
        "id": "rT_yyoTsFXiS"
      },
      "source": [
        "from scipy.cluster.hierarchy import fcluster"
      ],
      "execution_count": null,
      "outputs": []
    },
    {
      "cell_type": "markdown",
      "metadata": {
        "id": "KiiPa-o5FXiS"
      },
      "source": [
        "we will use these fcluster to form the clusters"
      ]
    },
    {
      "cell_type": "code",
      "metadata": {
        "id": "thxxN9e2FXiS"
      },
      "source": [
        "clusters = fcluster(wardlink, 23, criterion = 'distance')\n",
        "clusters"
      ],
      "execution_count": null,
      "outputs": []
    },
    {
      "cell_type": "code",
      "metadata": {
        "id": "436YZxXKFXiS"
      },
      "source": [
        "data_copied['clusters'] = clusters"
      ],
      "execution_count": null,
      "outputs": []
    },
    {
      "cell_type": "code",
      "metadata": {
        "id": "jZAzn-NjFXiS"
      },
      "source": [
        "data_copied.head()"
      ],
      "execution_count": null,
      "outputs": []
    },
    {
      "cell_type": "code",
      "metadata": {
        "id": "yFxT1zMTFXiS"
      },
      "source": [
        "data_copied.to_csv('hc.csv')"
      ],
      "execution_count": null,
      "outputs": []
    },
    {
      "cell_type": "markdown",
      "metadata": {
        "id": "Mv5NRjQWFXiS"
      },
      "source": [
        "<span style=\"font-family: Arial; font-weight:bold;font-size:1.5em;color:#00b3e5;\">Applying K-Means clustering on scaled data\n"
      ]
    },
    {
      "cell_type": "code",
      "metadata": {
        "id": "vo1IFH-7FXiS"
      },
      "source": [
        "data.head()"
      ],
      "execution_count": null,
      "outputs": []
    },
    {
      "cell_type": "code",
      "metadata": {
        "id": "khjDFQa7FXiT"
      },
      "source": [
        "data.shape"
      ],
      "execution_count": null,
      "outputs": []
    },
    {
      "cell_type": "markdown",
      "metadata": {
        "id": "el5xNVmbFXiT"
      },
      "source": [
        "<span style=\"font-family: Arial; font-weight:bold;font-size:1.5em;color:#00b3e5;\">scaling the data"
      ]
    },
    {
      "cell_type": "code",
      "metadata": {
        "id": "c_o5WkirFXiT"
      },
      "source": [
        "from sklearn.preprocessing import StandardScaler"
      ],
      "execution_count": null,
      "outputs": []
    },
    {
      "cell_type": "code",
      "metadata": {
        "id": "IR1IsVxmFXiT"
      },
      "source": [
        "X = StandardScaler()"
      ],
      "execution_count": null,
      "outputs": []
    },
    {
      "cell_type": "code",
      "metadata": {
        "id": "zzsQfBXpFXiT"
      },
      "source": [
        "scaled_df = X.fit_transform(data)\n",
        "scaled_df"
      ],
      "execution_count": null,
      "outputs": []
    },
    {
      "cell_type": "code",
      "metadata": {
        "id": "ZeHnbBtAFXiT"
      },
      "source": [
        "# Create K Means cluster and store the result in the object k_means\n",
        "from sklearn.cluster import KMeans\n",
        "k_means = KMeans(n_clusters = 2,random_state=1)"
      ],
      "execution_count": null,
      "outputs": []
    },
    {
      "cell_type": "code",
      "metadata": {
        "id": "MUIX3lDTFXiT"
      },
      "source": [
        "# Creating Clusters using KMeans\n",
        "### Forming 2 Clusters with K=2"
      ],
      "execution_count": null,
      "outputs": []
    },
    {
      "cell_type": "code",
      "metadata": {
        "id": "PCDyBiUDFXiU"
      },
      "source": [
        "# Fit K means on the scaled_df\n",
        "k_means.fit(scaled_df)"
      ],
      "execution_count": null,
      "outputs": []
    },
    {
      "cell_type": "code",
      "metadata": {
        "id": "JefkgWmDFXiU"
      },
      "source": [
        "### Cluster Output for all the observations"
      ],
      "execution_count": null,
      "outputs": []
    },
    {
      "cell_type": "code",
      "metadata": {
        "id": "A5_RJQy1FXiU"
      },
      "source": [
        "# Get the labels\n",
        "k_means.labels_"
      ],
      "execution_count": null,
      "outputs": []
    },
    {
      "cell_type": "code",
      "metadata": {
        "id": "mF5IQ764FXiU"
      },
      "source": [
        "### Within Cluster Sum of Squares"
      ],
      "execution_count": null,
      "outputs": []
    },
    {
      "cell_type": "code",
      "metadata": {
        "id": "1Qh34eOoFXiU"
      },
      "source": [
        "k_means.inertia_"
      ],
      "execution_count": null,
      "outputs": []
    },
    {
      "cell_type": "code",
      "metadata": {
        "id": "e1l-W-c1FXiU"
      },
      "source": [
        "### Forming clusters with K = 1,3,4,5,6 and comparing the WSS"
      ],
      "execution_count": null,
      "outputs": []
    },
    {
      "cell_type": "code",
      "metadata": {
        "id": "LwZtkoMDFXiU"
      },
      "source": [
        "k_means = KMeans(n_clusters = 1,random_state=1)\n",
        "k_means.fit(scaled_df)\n",
        "k_means.inertia_"
      ],
      "execution_count": null,
      "outputs": []
    },
    {
      "cell_type": "code",
      "metadata": {
        "id": "M2uutqxcFXiV"
      },
      "source": [
        "k_means = KMeans(n_clusters = 3,random_state=1)\n",
        "k_means.fit(scaled_df)\n",
        "k_means.inertia_"
      ],
      "execution_count": null,
      "outputs": []
    },
    {
      "cell_type": "code",
      "metadata": {
        "id": "8V2LPvXRFXiV"
      },
      "source": [
        "k_means = KMeans(n_clusters = 4,random_state=1)\n",
        "k_means.fit(scaled_df)\n",
        "k_means.inertia_"
      ],
      "execution_count": null,
      "outputs": []
    },
    {
      "cell_type": "code",
      "metadata": {
        "id": "J3OmqCyEFXiV"
      },
      "source": [
        "k_means = KMeans(n_clusters = 5,random_state=1)\n",
        "k_means.fit(scaled_df)\n",
        "k_means.inertia_"
      ],
      "execution_count": null,
      "outputs": []
    },
    {
      "cell_type": "code",
      "metadata": {
        "id": "sESUoVdjFXiV"
      },
      "source": [
        "k_means = KMeans(n_clusters = 6,random_state=1)\n",
        "k_means.fit(scaled_df)\n",
        "k_means.inertia_"
      ],
      "execution_count": null,
      "outputs": []
    },
    {
      "cell_type": "markdown",
      "metadata": {
        "id": "RZUzFFMnFXiV"
      },
      "source": [
        "**WSS reduces as K keeps increasing**"
      ]
    },
    {
      "cell_type": "code",
      "metadata": {
        "id": "qB-B9XC3FXiV"
      },
      "source": [
        "### Calculating WSS for other values of K - Elbow Method"
      ],
      "execution_count": null,
      "outputs": []
    },
    {
      "cell_type": "code",
      "metadata": {
        "id": "tLCT1FibFXiW"
      },
      "source": [
        "wss =[]"
      ],
      "execution_count": null,
      "outputs": []
    },
    {
      "cell_type": "code",
      "metadata": {
        "id": "Beo8nb-CFXiW"
      },
      "source": [
        "for i in range(1,11):\n",
        "    KM = KMeans(n_clusters=i,random_state=1)\n",
        "    KM.fit(scaled_df)\n",
        "    wss.append(KM.inertia_)"
      ],
      "execution_count": null,
      "outputs": []
    },
    {
      "cell_type": "code",
      "metadata": {
        "id": "HEAbFav6FXiW"
      },
      "source": [
        "wss"
      ],
      "execution_count": null,
      "outputs": []
    },
    {
      "cell_type": "code",
      "metadata": {
        "id": "jk5cozAoFXiW"
      },
      "source": [
        "a=[1,2,3,4,5,6,7,8,9,10]"
      ],
      "execution_count": null,
      "outputs": []
    },
    {
      "cell_type": "code",
      "metadata": {
        "id": "1buhDSX7FXiW"
      },
      "source": [
        "sns.pointplot(a, wss);"
      ],
      "execution_count": null,
      "outputs": []
    },
    {
      "cell_type": "code",
      "metadata": {
        "id": "_JJ9sQeiFXiW"
      },
      "source": [
        "plt.plot(range(1,11), wss)"
      ],
      "execution_count": null,
      "outputs": []
    },
    {
      "cell_type": "code",
      "metadata": {
        "id": "XBAgOEoaFXiW"
      },
      "source": [
        "# KMeans with K=3"
      ],
      "execution_count": null,
      "outputs": []
    },
    {
      "cell_type": "code",
      "metadata": {
        "id": "nVLStFHHFXiX"
      },
      "source": [
        "k_means = KMeans(n_clusters = 3,random_state=1)\n",
        "k_means.fit(scaled_df)\n",
        "labels = k_means.labels_"
      ],
      "execution_count": null,
      "outputs": []
    },
    {
      "cell_type": "code",
      "metadata": {
        "id": "bNpaL6o_FXiX"
      },
      "source": [
        "### Cluster evaluation for 3 clusters: the silhouette score"
      ],
      "execution_count": null,
      "outputs": []
    },
    {
      "cell_type": "code",
      "metadata": {
        "id": "NwNafBgNFXiX"
      },
      "source": [
        "from sklearn.metrics import silhouette_samples, silhouette_score"
      ],
      "execution_count": null,
      "outputs": []
    },
    {
      "cell_type": "code",
      "metadata": {
        "id": "6LLZ6ZeAFXiX"
      },
      "source": [
        "# Calculating silhouette_score\n",
        "silhouette_score(scaled_df,labels,random_state=1)"
      ],
      "execution_count": null,
      "outputs": []
    },
    {
      "cell_type": "code",
      "metadata": {
        "id": "eqnOxtjPFXiX"
      },
      "source": [
        "# KMeans with K=4"
      ],
      "execution_count": null,
      "outputs": []
    },
    {
      "cell_type": "code",
      "metadata": {
        "id": "kiGAP6WhFXiX"
      },
      "source": [
        "k_means = KMeans(n_clusters = 4,random_state=1)\n",
        "k_means.fit(scaled_df)\n",
        "labels = k_means.labels_"
      ],
      "execution_count": null,
      "outputs": []
    },
    {
      "cell_type": "code",
      "metadata": {
        "id": "az4jydT-FXiX"
      },
      "source": [
        "### Cluster evaluation for 4 clusters"
      ],
      "execution_count": null,
      "outputs": []
    },
    {
      "cell_type": "code",
      "metadata": {
        "id": "TEQfpq_wFXiX"
      },
      "source": [
        "silhouette_score(scaled_df,labels,random_state=1)"
      ],
      "execution_count": null,
      "outputs": []
    },
    {
      "cell_type": "markdown",
      "metadata": {
        "id": "iYaBaSffFXiY"
      },
      "source": [
        "**silhouette score is better for 3 clusters than for 4 clusters. So, final clusters will be 3**"
      ]
    },
    {
      "cell_type": "markdown",
      "metadata": {
        "id": "PgESa-kgFXiY"
      },
      "source": [
        "Appending Clusters to the original dataset"
      ]
    },
    {
      "cell_type": "code",
      "metadata": {
        "id": "_lHymUx8FXiY"
      },
      "source": [
        "data[\"Clus_kmeans4\"] = labels\n",
        "data.head()"
      ],
      "execution_count": null,
      "outputs": []
    },
    {
      "cell_type": "markdown",
      "metadata": {
        "id": "5J5KOeFmFXiY"
      },
      "source": [
        "**Cluster profiles for Hierarchial Cluster**"
      ]
    },
    {
      "cell_type": "markdown",
      "metadata": {
        "id": "rhJsdD_8FXiY"
      },
      "source": [
        "Cluster Frequency"
      ]
    },
    {
      "cell_type": "code",
      "metadata": {
        "id": "o8yZio02FXiY"
      },
      "source": [
        "data_copied.clusters.value_counts().sort_index()"
      ],
      "execution_count": null,
      "outputs": []
    },
    {
      "cell_type": "code",
      "metadata": {
        "id": "FR_0ZSl1FXiZ"
      },
      "source": [
        "# Cluster Profiles"
      ],
      "execution_count": null,
      "outputs": []
    },
    {
      "cell_type": "code",
      "metadata": {
        "id": "v0zsQMKfFXiZ"
      },
      "source": [
        "aggdata=data_copied.groupby('clusters').mean()\n",
        "aggdata['Freq']=data_copied.clusters.value_counts().sort_index()\n",
        "aggdata"
      ],
      "execution_count": null,
      "outputs": []
    },
    {
      "cell_type": "markdown",
      "metadata": {
        "id": "ATXBH8vLFXiZ"
      },
      "source": [
        "**Cluster profiles for kmeans Cluster**"
      ]
    },
    {
      "cell_type": "code",
      "metadata": {
        "id": "sop1XZ1HFXiZ"
      },
      "source": [
        "data.Clus_kmeans4.value_counts().sort_index()"
      ],
      "execution_count": null,
      "outputs": []
    },
    {
      "cell_type": "code",
      "metadata": {
        "id": "p7dTHJpPFXiZ"
      },
      "source": [
        "clust_profile=data\n",
        "clust_profile=clust_profile.groupby('Clus_kmeans4').mean()\n",
        "clust_profile['freq']=data.Clus_kmeans4.value_counts().sort_index()\n",
        "clust_profile"
      ],
      "execution_count": null,
      "outputs": []
    },
    {
      "cell_type": "code",
      "metadata": {
        "id": "l2vrwNeCFXiZ"
      },
      "source": [
        "data.to_csv('km.csv')"
      ],
      "execution_count": null,
      "outputs": []
    },
    {
      "cell_type": "code",
      "metadata": {
        "id": "8yafQRQLFXid"
      },
      "source": [],
      "execution_count": null,
      "outputs": []
    }
  ]
}