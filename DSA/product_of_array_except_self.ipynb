{
  "nbformat": 4,
  "nbformat_minor": 0,
  "metadata": {
    "colab": {
      "provenance": []
    },
    "kernelspec": {
      "name": "python3",
      "display_name": "Python 3"
    },
    "language_info": {
      "name": "python"
    }
  },
  "cells": [
    {
      "cell_type": "code",
      "execution_count": 1,
      "metadata": {
        "colab": {
          "base_uri": "https://localhost:8080/"
        },
        "id": "zysdyD-RRCmQ",
        "outputId": "6b16eaea-9326-4f1f-d54b-a06b5507cb15"
      },
      "outputs": [
        {
          "output_type": "stream",
          "name": "stdout",
          "text": [
            "[24, 12, 8, 6]\n"
          ]
        }
      ],
      "source": [
        "def productExceptSelf(nums):\n",
        "    left = [0] * len(nums)  # array to store all left multiplication\n",
        "    right = [0] * len(nums)  # array to store all right multiplication\n",
        "\n",
        "    left[0] = 1 # fill all elements in left array\n",
        "    for i in range(1, len(nums)):\n",
        "        left[i] = left[i - 1] * nums[i - 1]\n",
        "\n",
        "    right[len(nums) - 1] = 1 # fill all elements in right array\n",
        "    for i in range(len(nums) - 2, -1, -1):\n",
        "        right[i] = right[i + 1] * nums[i + 1]\n",
        "\n",
        "    ans = [0] * len(nums) # create answer array\n",
        "    for i in range(len(nums)):\n",
        "        ans[i] = left[i] * right[i]\n",
        "\n",
        "    return ans\n",
        "\n",
        "# Example usage:\n",
        "input_nums = [1, 2, 3, 4]\n",
        "result = productExceptSelf(input_nums)\n",
        "print(result)"
      ]
    }
  ]
}