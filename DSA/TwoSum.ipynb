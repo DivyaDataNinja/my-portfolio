{
  "nbformat": 4,
  "nbformat_minor": 0,
  "metadata": {
    "colab": {
      "provenance": []
    },
    "kernelspec": {
      "name": "python3",
      "display_name": "Python 3"
    },
    "language_info": {
      "name": "python"
    }
  },
  "cells": [
    {
      "cell_type": "code",
      "source": [
        "def twoSum(nums, target):\n",
        "    num_dict = {}\n",
        "    for i, num in enumerate(nums):\n",
        "        complement = target - num\n",
        "        if complement in num_dict:\n",
        "            return [num_dict[complement], i]\n",
        "        num_dict[num] = i\n",
        "    return None  # Return None if no such pair is found\n",
        "\n",
        "# Example list of numbers\n",
        "nums = [2, 7, 11, 15]\n",
        "\n",
        "# Target sum\n",
        "target = 9\n",
        "\n",
        "# Call the twoSum function\n",
        "result = twoSum(nums, target)\n",
        "\n",
        "# Display the result\n",
        "if result:\n",
        "    print(\"Indices of the two numbers that add up to the target:\", result)\n",
        "else:\n",
        "    print(\"No such pair found.\")\n"
      ],
      "metadata": {
        "colab": {
          "base_uri": "https://localhost:8080/"
        },
        "id": "YO23QcqzIpJg",
        "outputId": "de2dd010-ce85-4f05-b5a7-b58510ed8323"
      },
      "execution_count": 8,
      "outputs": [
        {
          "output_type": "stream",
          "name": "stdout",
          "text": [
            "Indices of the two numbers that add up to the target: [0, 1]\n"
          ]
        }
      ]
    },
    {
      "cell_type": "code",
      "source": [
        "def twoSum(nums, target):\n",
        "    num_dict = {}\n",
        "    for i, num in enumerate(nums):\n",
        "        complement = target - num\n",
        "        if complement in num_dict:\n",
        "            return [num_dict[complement], i]\n",
        "        num_dict[num] = i\n",
        "    return None  # Return None if no such pair is found\n",
        "\n",
        "# Take user input for the list of numbers\n",
        "nums = list(map(int, input(\"Enter the numbers separated by space: \").split()))\n",
        "\n",
        "# Take user input for the target sum\n",
        "target = int(input(\"Enter the target sum: \"))\n",
        "\n",
        "# Call the twoSum function\n",
        "result = twoSum(nums, target)\n",
        "\n",
        "# Display the result\n",
        "if result:\n",
        "    print(\"Indices of the two numbers that add up to the target:\", result)\n",
        "else:\n",
        "    print(\"No such pair found.\")"
      ],
      "metadata": {
        "colab": {
          "base_uri": "https://localhost:8080/"
        },
        "id": "9FDW8aN5I7bl",
        "outputId": "946065db-1b7f-4f02-f63e-3ad669807f81"
      },
      "execution_count": 9,
      "outputs": [
        {
          "output_type": "stream",
          "name": "stdout",
          "text": [
            "Enter the numbers separated by space: 1 3 5 6 7 8 56\n",
            "Enter the target sum: 58\n",
            "No such pair found.\n"
          ]
        }
      ]
    }
  ]
}