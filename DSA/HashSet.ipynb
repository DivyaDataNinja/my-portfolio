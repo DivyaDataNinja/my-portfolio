{
  "nbformat": 4,
  "nbformat_minor": 0,
  "metadata": {
    "colab": {
      "provenance": []
    },
    "kernelspec": {
      "name": "python3",
      "display_name": "Python 3"
    },
    "language_info": {
      "name": "python"
    }
  },
  "cells": [
    {
      "cell_type": "code",
      "source": [
        "class Solution:\n",
        "    def containsDuplicate(self, nums: list[int]) -> bool:\n",
        "        hashset = set()  # create hash set to store integers\n",
        "\n",
        "        for n in nums:  # iterate over each element\n",
        "            if n in hashset:  # check if the number is in hashset\n",
        "                return True\n",
        "            hashset.add(n)  # add the number to the hashset\n",
        "        return False  # return False if no duplicates are found\n",
        "\n",
        "# Test case 1:\n",
        "solution = Solution()\n",
        "test_list = [1, 2, 3, 4, 5]\n",
        "result = solution.containsDuplicate(test_list)\n",
        "print(result)  # This will print False because there are no duplicates in the test_list"
      ],
      "metadata": {
        "colab": {
          "base_uri": "https://localhost:8080/"
        },
        "id": "R3wiaDsSTXOI",
        "outputId": "844e6806-7f4e-4065-e18c-90b8671fb359"
      },
      "execution_count": 6,
      "outputs": [
        {
          "output_type": "stream",
          "name": "stdout",
          "text": [
            "False\n"
          ]
        }
      ]
    },
    {
      "cell_type": "code",
      "source": [
        "# Test case 2:\n",
        "solution = Solution()\n",
        "test_list = [1, 2, 3, 4, 1]\n",
        "result = solution.containsDuplicate(test_list)\n",
        "print(result)  # This will print False because there are no duplicates in the test_list"
      ],
      "metadata": {
        "colab": {
          "base_uri": "https://localhost:8080/"
        },
        "id": "3ZLrqzXVTZaU",
        "outputId": "a17d5a48-e260-42b3-ba5e-8735623ece3d"
      },
      "execution_count": 7,
      "outputs": [
        {
          "output_type": "stream",
          "name": "stdout",
          "text": [
            "True\n"
          ]
        }
      ]
    },
    {
      "cell_type": "code",
      "source": [],
      "metadata": {
        "id": "EJNpVvvpTi9R"
      },
      "execution_count": null,
      "outputs": []
    }
  ]
}