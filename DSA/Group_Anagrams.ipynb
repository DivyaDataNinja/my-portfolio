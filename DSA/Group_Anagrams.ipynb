{
  "nbformat": 4,
  "nbformat_minor": 0,
  "metadata": {
    "colab": {
      "provenance": []
    },
    "kernelspec": {
      "name": "python3",
      "display_name": "Python 3"
    },
    "language_info": {
      "name": "python"
    }
  },
  "cells": [
    {
      "cell_type": "code",
      "execution_count": 1,
      "metadata": {
        "colab": {
          "base_uri": "https://localhost:8080/"
        },
        "id": "oGaU34UOTPAK",
        "outputId": "24533aa1-f851-413a-b3d1-73b66f61db51"
      },
      "outputs": [
        {
          "output_type": "stream",
          "name": "stdout",
          "text": [
            "[['eat', 'tea', 'ate'], ['tan', 'nat'], ['bat']]\n"
          ]
        }
      ],
      "source": [
        "from collections import defaultdict\n",
        "\n",
        "def groupAnagramsCategorizebyFrequency(strs):\n",
        "    if not strs:  # Check for empty inputs\n",
        "        return []\n",
        "\n",
        "    def getFrequencyString(s):\n",
        "        freq = [0] * 26  # Frequency array for each character\n",
        "\n",
        "        for char in s:\n",
        "            freq[ord(char) - ord('a')] += 1  # Increment frequency of each character\n",
        "\n",
        "        frequencyString = \"\"\n",
        "        c = 'a'\n",
        "        for f in freq:\n",
        "            frequencyString += c + str(f)  # Creating frequency string\n",
        "            c = chr(ord(c) + 1)  # Character increment\n",
        "        return frequencyString\n",
        "\n",
        "    frequencyStringsMap = defaultdict(list)\n",
        "\n",
        "    for s in strs:\n",
        "        frequencyString = getFrequencyString(s)\n",
        "\n",
        "        if frequencyString in frequencyStringsMap:\n",
        "            frequencyStringsMap[frequencyString].append(s)\n",
        "        else:\n",
        "            frequencyStringsMap[frequencyString] = [s]\n",
        "\n",
        "    return list(frequencyStringsMap.values())\n",
        "\n",
        "# Example usage:\n",
        "input_strings = [\"eat\", \"tea\", \"tan\", \"ate\", \"nat\", \"bat\"]\n",
        "result = groupAnagramsCategorizebyFrequency(input_strings)\n",
        "print(result)"
      ]
    },
    {
      "cell_type": "markdown",
      "source": [
        "This Python code creates a function groupAnagramsCategorizebyFrequency that categorizes anagrams in the given list of strings based on their character frequency. The logic utilizes a frequency map to group anagrams together."
      ],
      "metadata": {
        "id": "eeuWqKo5TdTI"
      }
    }
  ]
}