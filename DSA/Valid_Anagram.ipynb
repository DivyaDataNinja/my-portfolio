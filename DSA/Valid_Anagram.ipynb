{
  "nbformat": 4,
  "nbformat_minor": 0,
  "metadata": {
    "colab": {
      "provenance": []
    },
    "kernelspec": {
      "name": "python3",
      "display_name": "Python 3"
    },
    "language_info": {
      "name": "python"
    }
  },
  "cells": [
    {
      "cell_type": "code",
      "source": [
        "def isAnagram(str1, str2):\n",
        "    # Converting both strings to lowercase to ignore case match\n",
        "    str1 = str1.lower()\n",
        "    str2 = str2.lower()\n",
        "\n",
        "    # Stripping all the white spaces\n",
        "    str1 = str1.replace(\" \", \"\")\n",
        "    str2 = str2.replace(\" \", \"\")\n",
        "\n",
        "    # Initializing bucket array\n",
        "    counts = [0] * 26\n",
        "\n",
        "    # Filling the bucket array\n",
        "    for char in str1:\n",
        "        counts[ord(char) - ord('a')] += 1\n",
        "\n",
        "    # Emptying the bucket array\n",
        "    for char in str2:\n",
        "        counts[ord(char) - ord('a')] -= 1\n",
        "\n",
        "    # Checking if all the buckets are empty\n",
        "    for count in counts:\n",
        "        if count != 0:\n",
        "            return False\n",
        "\n",
        "    return True\n",
        "\n",
        "# Test cases\n",
        "\n",
        "input_str1 = \"Listen\"\n",
        "input_str2 = \"Silent\"\n",
        "output = isAnagram(input_str1, input_str2)\n",
        "print(f\"Are '{input_str1}' and '{input_str2}' anagrams? {output}\")"
      ],
      "metadata": {
        "colab": {
          "base_uri": "https://localhost:8080/"
        },
        "id": "QWg85tBE3JkY",
        "outputId": "e25cd903-7801-4c61-cdc1-9ac53c2c4750"
      },
      "execution_count": 2,
      "outputs": [
        {
          "output_type": "stream",
          "name": "stdout",
          "text": [
            "Are 'Listen' and 'Silent' anagrams? True\n"
          ]
        }
      ]
    }
  ]
}