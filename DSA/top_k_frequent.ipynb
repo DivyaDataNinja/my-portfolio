{
  "nbformat": 4,
  "nbformat_minor": 0,
  "metadata": {
    "colab": {
      "provenance": []
    },
    "kernelspec": {
      "name": "python3",
      "display_name": "Python 3"
    },
    "language_info": {
      "name": "python"
    }
  },
  "cells": [
    {
      "cell_type": "code",
      "execution_count": 1,
      "metadata": {
        "colab": {
          "base_uri": "https://localhost:8080/"
        },
        "id": "yRSAZMoWP4O4",
        "outputId": "5255b6a5-9895-43c0-f09b-a795f201af50"
      },
      "outputs": [
        {
          "output_type": "stream",
          "name": "stdout",
          "text": [
            "[1, 2]\n"
          ]
        }
      ],
      "source": [
        "from collections import defaultdict\n",
        "\n",
        "def topKFrequent(nums, k):\n",
        "    bucket = defaultdict(list)  # create buckets\n",
        "    frequencyMap = defaultdict(int)  # create frequency map\n",
        "\n",
        "    # populate frequency map\n",
        "    for n in nums:\n",
        "        frequencyMap[n] += 1\n",
        "\n",
        "    # populate bucket\n",
        "    for key, frequency in frequencyMap.items():\n",
        "        bucket[frequency].append(key)\n",
        "\n",
        "    # create a result variable\n",
        "    res = []\n",
        "\n",
        "    # to iterate all buckets in reverse direction\n",
        "    for pos in range(len(nums), -1, -1):\n",
        "        if pos in bucket:\n",
        "            res.extend(bucket[pos])\n",
        "            if len(res) >= k:\n",
        "                break\n",
        "\n",
        "    return res[:k]\n",
        "\n",
        "# Given input\n",
        "nums = [1, 1, 1, 2, 2, 3]\n",
        "k = 2\n",
        "\n",
        "# Function call\n",
        "result = topKFrequent(nums, k)\n",
        "print(result)"
      ]
    }
  ]
}