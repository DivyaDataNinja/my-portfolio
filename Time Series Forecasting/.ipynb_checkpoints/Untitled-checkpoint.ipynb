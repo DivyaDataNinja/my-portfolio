{
 "cells": [
  {
   "cell_type": "code",
   "execution_count": 1,
   "metadata": {},
   "outputs": [],
   "source": [
    "## Check for stationarity of the whole Time Series data."
   ]
  },
  {
   "cell_type": "code",
   "execution_count": 2,
   "metadata": {},
   "outputs": [],
   "source": [
    "### The Augmented Dickey-Fuller test is an unit root test which determines whether there is a unit root and subsequently whether the series is non-stationary.\n",
    "\n",
    "### The hypothesis in a simple form for the ADF test is:\n",
    "\n",
    "### 𝐻0  : The Time Series has a unit root and is thus non-stationary.\n",
    "### 𝐻1  : The Time Series does not have a unit root and is thus stationary.\n",
    "### We would want the series to be stationary for building ARIMA models and thus we would want the p-value of this test to be less than the  𝛼  value."
   ]
  },
  {
   "cell_type": "code",
   "execution_count": null,
   "metadata": {},
   "outputs": [],
   "source": [
    "from statsmodels.tsa.stattools import adfuller"
   ]
  },
  {
   "cell_type": "code",
   "execution_count": null,
   "metadata": {},
   "outputs": [],
   "source": [
    "dftest = adfuller(data,regression='ct')\n",
    "print('DF test statistic is %3.3f' %dftest[0])\n",
    "print('DF test p-value is' ,dftest[1])\n",
    "print('Number of lags used' ,dftest[2])"
   ]
  },
  {
   "cell_type": "code",
   "execution_count": 3,
   "metadata": {},
   "outputs": [],
   "source": [
    "### We see that at 5% significant level the Time Series is non-stationary.\n",
    "\n",
    "### There are various ways that Python allows us to select the appropriate number of lags at which we check whether the Time Series is stationary. To know more about the how to select the various ways, please refer to the link over ℎ𝑒𝑟𝑒.\n",
    "\n",
    "### Let us take one level of differencing to see whether the series becomes stationary."
   ]
  },
  {
   "cell_type": "code",
   "execution_count": null,
   "metadata": {},
   "outputs": [],
   "source": [
    "dftest = adfuller(data.diff().dropna(),regression='ct')\n",
    "print('DF test statistic is %3.3f' %dftest[0])\n",
    "print('DF test p-value is' ,dftest[1])\n",
    "print('Number of lags used' ,dftest[2])"
   ]
  },
  {
   "cell_type": "markdown",
   "metadata": {},
   "source": [
    "Now, let us go ahead and plot the stationary series."
   ]
  },
  {
   "cell_type": "code",
   "execution_count": null,
   "metadata": {},
   "outputs": [],
   "source": [
    "data.diff().dropna().plot(grid=True);"
   ]
  },
  {
   "cell_type": "code",
   "execution_count": 5,
   "metadata": {},
   "outputs": [],
   "source": [
    "### Plot the Autocorrelation and the Partial Autocorrelation function plots on the whole data."
   ]
  },
  {
   "cell_type": "code",
   "execution_count": null,
   "metadata": {},
   "outputs": [],
   "source": [
    "from statsmodels.graphics.tsaplots import plot_acf, plot_pacf"
   ]
  },
  {
   "cell_type": "code",
   "execution_count": null,
   "metadata": {},
   "outputs": [],
   "source": [
    "plot_acf(data,alpha=0.05);"
   ]
  },
  {
   "cell_type": "markdown",
   "metadata": {},
   "source": [
    "From the above plots, we can say that there seems to be a seasonality in the data.\n",
    "\n",
    "acf gives order of p,q term - moving average term ;"
   ]
  },
  {
   "cell_type": "code",
   "execution_count": null,
   "metadata": {},
   "outputs": [],
   "source": [
    "plot_pacf(data,zero=False,alpha=0.05);"
   ]
  },
  {
   "cell_type": "code",
   "execution_count": null,
   "metadata": {},
   "outputs": [],
   "source": [
    "plot_pacf(data,zero=False,alpha=0.05,method='ywmle');"
   ]
  },
  {
   "cell_type": "markdown",
   "metadata": {},
   "source": [
    "lag 0 never counted - always 1 ; we count number of signifiacnt lags i.e., the values which are outside the confidence level(blue shade). we count till first cut off ie.d, here 3. if there are no cutoffs, i.e., upto 12 lags, q value qill be 0. - for pacf plot\n",
    "\n",
    "for acf plot, q = 2"
   ]
  },
  {
   "cell_type": "code",
   "execution_count": null,
   "metadata": {},
   "outputs": [],
   "source": []
  }
 ],
 "metadata": {
  "kernelspec": {
   "display_name": "Python 3",
   "language": "python",
   "name": "python3"
  },
  "language_info": {
   "codemirror_mode": {
    "name": "ipython",
    "version": 3
   },
   "file_extension": ".py",
   "mimetype": "text/x-python",
   "name": "python",
   "nbconvert_exporter": "python",
   "pygments_lexer": "ipython3",
   "version": "3.8.5"
  }
 },
 "nbformat": 4,
 "nbformat_minor": 4
}
